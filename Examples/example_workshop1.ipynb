{
 "cells": [
  {
   "cell_type": "code",
   "execution_count": 1,
   "metadata": {},
   "outputs": [],
   "source": [
    "import pandas as pd\n",
    "import numpy as np\n",
    "import matplotlib.pyplot as plt"
   ]
  },
  {
   "cell_type": "heading",
   "metadata": {},
   "level": 1,
   "source": [
    "Open CSV file and omit day and month columns"
   ]
  },
  {
   "cell_type": "code",
   "execution_count": 7,
   "metadata": {},
   "outputs": [],
   "source": [
    "f = pd.read_csv('C:\\Users\\Meghan\\PyCharm_Meghan\\SOARS2016_DataWorkshops\\workshop\\one\\data\\sample_demo_weather_data_1981.csv')"
   ]
  },
  {
   "cell_type": "code",
   "execution_count": 3,
   "metadata": {},
   "outputs": [
    {
     "name": "stdout",
     "output_type": "stream",
     "text": [
      "   year  month  day      lon      lat  raintot    tmaxavg\n0  1981      1    1 -122.433  40.5734     74.0    15.0634\n1  1981      1    5 -119.161  35.5211     16.0    18.4718\n2  1981      1    5 -120.952  37.5956      7.0    16.4225\n3  1981      1    7 -122.260  38.0756  -9999.0 -9999.0000\n4  1981      1    8 -116.126  33.6650      1.0    25.4155\n"
     ]
    }
   ],
   "source": [
    "print f.head()"
   ]
  },
  {
   "cell_type": "code",
   "execution_count": 4,
   "metadata": {},
   "outputs": [],
   "source": [
    "f=f.drop(['month','day'],axis=1)"
   ]
  },
  {
   "cell_type": "code",
   "execution_count": 5,
   "metadata": {},
   "outputs": [
    {
     "name": "stdout",
     "output_type": "stream",
     "text": [
      "   year      lon      lat  raintot    tmaxavg\n0  1981 -122.433  40.5734     74.0    15.0634\n1  1981 -119.161  35.5211     16.0    18.4718\n2  1981 -120.952  37.5956      7.0    16.4225\n3  1981 -122.260  38.0756  -9999.0 -9999.0000\n4  1981 -116.126  33.6650      1.0    25.4155\n"
     ]
    }
   ],
   "source": [
    "print f.head()"
   ]
  },
  {
   "cell_type": "heading",
   "metadata": {},
   "level": 1,
   "source": [
    "Find the max and min values of lon and lat"
   ]
  },
  {
   "cell_type": "code",
   "execution_count": 6,
   "metadata": {},
   "outputs": [
    {
     "name": "stdout",
     "output_type": "stream",
     "text": [
      "max Longitude: -115.921\nmin Longitude: -122.943\n\nmax Latitude: 40.6103\nmin Latitude: 32.5692\n"
     ]
    }
   ],
   "source": [
    "print \"max Longitude:\" +' '+ str(f.lon.max()) \n",
    "print \"min Longitude:\" +' '+ str(f.lon.min())\n",
    "print \"\"\n",
    "print \"max Latitude:\" +' '+ str(f.lat.max()) \n",
    "print \"min Latitude:\" +' '+ str(f.lat.min())"
   ]
  },
  {
   "cell_type": "heading",
   "metadata": {},
   "level": 1,
   "source": [
    "Find the frequency of the measurements by month"
   ]
  },
  {
   "cell_type": "code",
   "execution_count": 8,
   "metadata": {},
   "outputs": [
    {
     "name": "stdout",
     "output_type": "stream",
     "text": [
      "Frequencies of data by month\nJan:22 measurements\nFeb:14 measurements\nMar:11 measurements\nApr:72 measurements\nMay:79 measurements\nJun:107 measurements\nJul:117 measurements\nAug:94 measurements\nSept:106 measurements\nOct:88 measurements\nNov:19 measurements\nDec:13 measurements\n"
     ]
    }
   ],
   "source": [
    "#Dictionary Way to do it\n",
    "month=f.month[:]\n",
    "from collections import Counter\n",
    "dict=Counter(month)\n",
    "\n",
    "# print dict\n",
    "print \"Frequencies of data by month\"\n",
    "print \"Jan:\"+ str(dict[1]) +\" \"+'measurements'\n",
    "print \"Feb:\"+ str(dict[2]) +\" \"+'measurements'\n",
    "print \"Mar:\"+ str(dict[3]) +\" \"+'measurements'\n",
    "print \"Apr:\"+ str(dict[4]) +\" \"+'measurements'\n",
    "print \"May:\"+ str(dict[5]) +\" \"+'measurements'\n",
    "print \"Jun:\"+ str(dict[6]) +\" \"+'measurements'\n",
    "print \"Jul:\"+ str(dict[7]) +\" \"+'measurements'\n",
    "print \"Aug:\"+ str(dict[8]) +\" \"+'measurements'\n",
    "print \"Sept:\"+ str(dict[9]) +\" \"+'measurements'\n",
    "print \"Oct:\"+ str(dict[10]) +\" \"+'measurements'\n",
    "print \"Nov:\"+ str(dict[11]) +\" \"+'measurements'\n",
    "print \"Dec:\"+ str(dict[12]) +\" \"+'measurements'"
   ]
  },
  {
   "cell_type": "code",
   "execution_count": 10,
   "metadata": {},
   "outputs": [
    {
     "name": "stdout",
     "output_type": "stream",
     "text": [
      "Frequencies of data by month:\nJan:22 measurements\nFeb:14 measurements\nMar:11 measurements\nApr:72 measurements\nMay:79 measurements\nJun:107 measurements\nJul:117 measurements\nAug:94 measurements\nSept:106 measurements\nOct:88 measurements\nNov:19 measurements\nDec:13 measurements\n"
     ]
    }
   ],
   "source": [
    "#Alternative way to do it\n",
    "import numpy as np\n",
    "print \"Frequencies of data by month:\"\n",
    "print \"Jan:\" + str(np.shape(np.where(f.month==1))[1]) +\" \"+'measurements'\n",
    "print \"Feb:\" + str(np.shape(np.where(f.month==2))[1]) +\" \"+'measurements'\n",
    "print \"Mar:\" + str(np.shape(np.where(f.month==3))[1]) +\" \"+'measurements'\n",
    "print \"Apr:\" + str(np.shape(np.where(f.month==4))[1]) +\" \"+'measurements'\n",
    "print \"May:\" + str(np.shape(np.where(f.month==5))[1]) +\" \"+'measurements'\n",
    "print \"Jun:\" + str(np.shape(np.where(f.month==6))[1]) +\" \"+'measurements'\n",
    "print \"Jul:\" + str(np.shape(np.where(f.month==7))[1]) +\" \"+'measurements'\n",
    "print \"Aug:\" + str(np.shape(np.where(f.month==8))[1]) +\" \"+'measurements'\n",
    "print \"Sept:\" + str(np.shape(np.where(f.month==9))[1]) +\" \"+'measurements'\n",
    "print \"Oct:\" + str(np.shape(np.where(f.month==10))[1]) +\" \"+'measurements'\n",
    "print \"Nov:\" + str(np.shape(np.where(f.month==11))[1]) +\" \"+'measurements'\n",
    "print \"Dec:\" + str(np.shape(np.where(f.month==12))[1]) +\" \"+'measurements'"
   ]
  },
  {
   "cell_type": "code",
   "execution_count": 12,
   "metadata": {},
   "outputs": [
    {
     "data": {
      "text/plain": [
       "<matplotlib.text.Text at 0xa4bb9e8>"
      ]
     },
     "execution_count": 12,
     "metadata": {},
     "output_type": "execute_result"
    },
    {
     "data": {
      "image/png": "[encoded data removed]",
      "text/plain": [
       "<matplotlib.figure.Figure at 0xa2a1b38>"
      ]
     },
     "metadata": {},
     "output_type": "display_data"
    }
   ],
   "source": [
    "#Histogram Frequency Plot\n",
    "import matplotlib.pyplot as plt\n",
    "%matplotlib inline\n",
    "import calendar\n",
    "bins = np.arange(14) - 0.5\n",
    "plt.hist(month, bins)\n",
    "plt.xticks(range(13))\n",
    "plt.xticks(np.arange(13), calendar.month_name[0:13], rotation=30)\n",
    "plt.xlim([0, 13])\n",
    "plt.title('Frequency of data points per Month')\n",
    "plt.xlabel('Month')\n",
    "plt.ylabel(\"# of measurements\")"
   ]
  }
 ],
 "metadata": {},
 "nbformat": 4,
 "nbformat_minor": 0
}